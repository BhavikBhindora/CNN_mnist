{
  "nbformat": 4,
  "nbformat_minor": 0,
  "metadata": {
    "colab": {
      "name": "CNN_mnist.ipynb",
      "provenance": [],
      "collapsed_sections": []
    },
    "kernelspec": {
      "name": "python3",
      "display_name": "Python 3"
    },
    "language_info": {
      "name": "python"
    }
  },
  "cells": [
    {
      "cell_type": "code",
      "execution_count": null,
      "metadata": {
        "id": "Wzzi-_lEn1c_"
      },
      "outputs": [],
      "source": [
        "import numpy as np\n",
        "import matplotlib.pyplot as plt\n",
        "import pandas as pd"
      ]
    },
    {
      "cell_type": "code",
      "source": [
        "#Dataset"
      ],
      "metadata": {
        "id": "wd_v2e0jo3wV"
      },
      "execution_count": null,
      "outputs": []
    },
    {
      "cell_type": "code",
      "source": [
        "from tensorflow.keras.datasets import mnist"
      ],
      "metadata": {
        "id": "EY8NSJWSoDHJ"
      },
      "execution_count": null,
      "outputs": []
    },
    {
      "cell_type": "code",
      "source": [
        "(X_train,y_train),(X_test,y_test) = mnist.load_data()"
      ],
      "metadata": {
        "colab": {
          "base_uri": "https://localhost:8080/"
        },
        "id": "NACKwODOoc8W",
        "outputId": "5efb329b-3a8c-4fd9-d6b6-39f818fec230"
      },
      "execution_count": null,
      "outputs": [
        {
          "output_type": "stream",
          "name": "stdout",
          "text": [
            "Downloading data from https://storage.googleapis.com/tensorflow/tf-keras-datasets/mnist.npz\n",
            "11493376/11490434 [==============================] - 0s 0us/step\n",
            "11501568/11490434 [==============================] - 0s 0us/step\n"
          ]
        }
      ]
    },
    {
      "cell_type": "code",
      "source": [
        "#image"
      ],
      "metadata": {
        "id": "X_jjfBMUozYY"
      },
      "execution_count": null,
      "outputs": []
    },
    {
      "cell_type": "code",
      "source": [
        "s1 = X_train[15999,:,:]\n",
        "plt.imshow(s1,cmap='gray')"
      ],
      "metadata": {
        "colab": {
          "base_uri": "https://localhost:8080/",
          "height": 282
        },
        "id": "6MMufC4apAA5",
        "outputId": "f16af996-1e30-4343-d2d4-9a6af8daa37b"
      },
      "execution_count": null,
      "outputs": [
        {
          "output_type": "execute_result",
          "data": {
            "text/plain": [
              "<matplotlib.image.AxesImage at 0x7fa58c353390>"
            ]
          },
          "metadata": {},
          "execution_count": 6
        },
        {
          "output_type": "display_data",
          "data": {
            "image/png": "[encoded data removed]",
            "text/plain": [
              "<Figure size 432x288 with 1 Axes>"
            ]
          },
          "metadata": {
            "needs_background": "light"
          }
        }
      ]
    },
    {
      "cell_type": "code",
      "source": [
        "!nvidia-smi"
      ],
      "metadata": {
        "colab": {
          "base_uri": "https://localhost:8080/"
        },
        "id": "D-Rymw1l6WDY",
        "outputId": "24cb4a37-8420-4080-e47f-7ca3a0a3e0dc"
      },
      "execution_count": null,
      "outputs": [
        {
          "output_type": "stream",
          "name": "stdout",
          "text": [
            "Thu Feb 17 13:40:35 2022       \n",
            "+-----------------------------------------------------------------------------+\n",
            "| NVIDIA-SMI 460.32.03    Driver Version: 460.32.03    CUDA Version: 11.2     |\n",
            "|-------------------------------+----------------------+----------------------+\n",
            "| GPU  Name        Persistence-M| Bus-Id        Disp.A | Volatile Uncorr. ECC |\n",
            "| Fan  Temp  Perf  Pwr:Usage/Cap|         Memory-Usage | GPU-Util  Compute M. |\n",
            "|                               |                      |               MIG M. |\n",
            "|===============================+======================+======================|\n",
            "|   0  Tesla K80           Off  | 00000000:00:04.0 Off |                    0 |\n",
            "| N/A   34C    P8    28W / 149W |      0MiB / 11441MiB |      0%      Default |\n",
            "|                               |                      |                  N/A |\n",
            "+-------------------------------+----------------------+----------------------+\n",
            "                                                                               \n",
            "+-----------------------------------------------------------------------------+\n",
            "| Processes:                                                                  |\n",
            "|  GPU   GI   CI        PID   Type   Process name                  GPU Memory |\n",
            "|        ID   ID                                                   Usage      |\n",
            "|=============================================================================|\n",
            "|  No running processes found                                                 |\n",
            "+-----------------------------------------------------------------------------+\n"
          ]
        }
      ]
    },
    {
      "cell_type": "code",
      "source": [
        "print(s1.min(),s1.max())"
      ],
      "metadata": {
        "colab": {
          "base_uri": "https://localhost:8080/"
        },
        "id": "l6u_xfAmpm2V",
        "outputId": "39fcec0e-66d2-477c-d7df-ae0715aeedaf"
      },
      "execution_count": null,
      "outputs": [
        {
          "output_type": "stream",
          "name": "stdout",
          "text": [
            "0 255\n"
          ]
        }
      ]
    },
    {
      "cell_type": "code",
      "source": [
        "print(y_train[15999])"
      ],
      "metadata": {
        "colab": {
          "base_uri": "https://localhost:8080/"
        },
        "id": "f8uOzHpTqARm",
        "outputId": "37567ced-ebde-49b7-e381-50379799a6ab"
      },
      "execution_count": null,
      "outputs": [
        {
          "output_type": "stream",
          "name": "stdout",
          "text": [
            "1\n"
          ]
        }
      ]
    },
    {
      "cell_type": "code",
      "source": [
        "from tensorflow.keras.utils import to_categorical"
      ],
      "metadata": {
        "id": "dnG3iyAIqRhM"
      },
      "execution_count": null,
      "outputs": []
    },
    {
      "cell_type": "code",
      "source": [
        "y_train= to_categorical(y_train , dtype='uint8')\n",
        "y_test = to_categorical(y_test , dtype ='uint8')"
      ],
      "metadata": {
        "id": "TGOEgYI7qsDR"
      },
      "execution_count": null,
      "outputs": []
    },
    {
      "cell_type": "code",
      "source": [
        "#Reshaping"
      ],
      "metadata": {
        "id": "B_m-GHPfsMF-"
      },
      "execution_count": null,
      "outputs": []
    },
    {
      "cell_type": "code",
      "source": [
        "X_train = X_train.reshape((60000, 28, 28, 1))\n",
        "X_test = X_test.reshape((10000, 28, 28, 1))"
      ],
      "metadata": {
        "id": "BxsmEprFsTnv"
      },
      "execution_count": null,
      "outputs": []
    },
    {
      "cell_type": "code",
      "source": [
        "#Normalising"
      ],
      "metadata": {
        "id": "fa79Lk6SsX97"
      },
      "execution_count": null,
      "outputs": []
    },
    {
      "cell_type": "code",
      "source": [
        "X_train = X_train.astype('float32')\n",
        "X_test = X_test.astype('float32')"
      ],
      "metadata": {
        "id": "w80C54a4sfeQ"
      },
      "execution_count": null,
      "outputs": []
    },
    {
      "cell_type": "code",
      "source": [
        "# normalize to range 0-1\n",
        "X_train = X_train / 255.0\n",
        "X_test = X_test / 255.0"
      ],
      "metadata": {
        "id": "CrxUbMQEsqvl"
      },
      "execution_count": null,
      "outputs": []
    },
    {
      "cell_type": "code",
      "source": [
        "#Model setup"
      ],
      "metadata": {
        "id": "XAupypD5sv7d"
      },
      "execution_count": null,
      "outputs": []
    },
    {
      "cell_type": "code",
      "source": [
        "from tensorflow.keras.models import Sequential\n",
        "from tensorflow.keras.layers import Dense, Conv2D, MaxPooling2D, Flatten\n",
        "\n",
        "model = Sequential()\n",
        "model.add(Conv2D(32, (3, 3), activation='relu', input_shape=(28, 28, 1)))\n",
        "model.add(MaxPooling2D((2, 2)))\n",
        "model.add(Flatten())\n",
        "model.add(Dense(54, activation='relu'))\n",
        "model.add(Dense(51, activation='relu'))\n",
        "model.add(Dense(10,activation='softmax'))"
      ],
      "metadata": {
        "id": "7UPq3tKGs1_x"
      },
      "execution_count": null,
      "outputs": []
    },
    {
      "cell_type": "code",
      "source": [
        "model.summary()"
      ],
      "metadata": {
        "colab": {
          "base_uri": "https://localhost:8080/"
        },
        "id": "9vTh8IUztNiI",
        "outputId": "9ebdf2ac-8669-4b59-eeaa-e578647f737a"
      },
      "execution_count": null,
      "outputs": [
        {
          "output_type": "stream",
          "name": "stdout",
          "text": [
            "Model: \"sequential\"\n",
            "_________________________________________________________________\n",
            " Layer (type)                Output Shape              Param #   \n",
            "=================================================================\n",
            " conv2d (Conv2D)             (None, 26, 26, 32)        320       \n",
            "                                                                 \n",
            " max_pooling2d (MaxPooling2D  (None, 13, 13, 32)       0         \n",
            " )                                                               \n",
            "                                                                 \n",
            " flatten (Flatten)           (None, 5408)              0         \n",
            "                                                                 \n",
            " dense (Dense)               (None, 54)                292086    \n",
            "                                                                 \n",
            " dense_1 (Dense)             (None, 51)                2805      \n",
            "                                                                 \n",
            " dense_2 (Dense)             (None, 10)                520       \n",
            "                                                                 \n",
            "=================================================================\n",
            "Total params: 295,731\n",
            "Trainable params: 295,731\n",
            "Non-trainable params: 0\n",
            "_________________________________________________________________\n"
          ]
        }
      ]
    },
    {
      "cell_type": "code",
      "source": [
        "#Training"
      ],
      "metadata": {
        "id": "aMGsnu37tm82"
      },
      "execution_count": null,
      "outputs": []
    },
    {
      "cell_type": "code",
      "source": [
        "import tensorflow as tf\n"
      ],
      "metadata": {
        "id": "yaSSfsk27AXc"
      },
      "execution_count": null,
      "outputs": []
    },
    {
      "cell_type": "code",
      "source": [
        "model.compile(loss='categorical_crossentropy', optimizer=tf.keras.optimizers.SGD(lr=0.01), metrics=['accuracy'])"
      ],
      "metadata": {
        "id": "X18FVbiFtqHn",
        "colab": {
          "base_uri": "https://localhost:8080/"
        },
        "outputId": "306de39b-e03a-4c23-e907-36c0602815a7"
      },
      "execution_count": null,
      "outputs": [
        {
          "output_type": "stream",
          "name": "stderr",
          "text": [
            "/usr/local/lib/python3.7/dist-packages/keras/optimizer_v2/gradient_descent.py:102: UserWarning: The `lr` argument is deprecated, use `learning_rate` instead.\n",
            "  super(SGD, self).__init__(name, **kwargs)\n"
          ]
        }
      ]
    },
    {
      "cell_type": "code",
      "source": [
        "hist = model.fit(x = X_train, y = y_train, batch_size=25, validation_data=(X_test,y_test), epochs=35,verbose=1)"
      ],
      "metadata": {
        "colab": {
          "base_uri": "https://localhost:8080/"
        },
        "id": "0aTD6bXptvEC",
        "outputId": "ca3ae465-c5a1-4c3b-ff4b-bae5d3a69d28"
      },
      "execution_count": null,
      "outputs": [
        {
          "output_type": "stream",
          "name": "stdout",
          "text": [
            "Epoch 1/35\n",
            "2400/2400 [==============================] - 21s 5ms/step - loss: 0.4928 - accuracy: 0.8610 - val_loss: 0.2371 - val_accuracy: 0.9283\n",
            "Epoch 2/35\n",
            "2400/2400 [==============================] - 11s 5ms/step - loss: 0.2216 - accuracy: 0.9339 - val_loss: 0.1810 - val_accuracy: 0.9461\n",
            "Epoch 3/35\n",
            "2400/2400 [==============================] - 11s 5ms/step - loss: 0.1719 - accuracy: 0.9486 - val_loss: 0.1567 - val_accuracy: 0.9492\n",
            "Epoch 4/35\n",
            "2400/2400 [==============================] - 12s 5ms/step - loss: 0.1414 - accuracy: 0.9563 - val_loss: 0.1324 - val_accuracy: 0.9593\n",
            "Epoch 5/35\n",
            "2400/2400 [==============================] - 11s 5ms/step - loss: 0.1214 - accuracy: 0.9629 - val_loss: 0.1173 - val_accuracy: 0.9656\n",
            "Epoch 6/35\n",
            "2400/2400 [==============================] - 11s 5ms/step - loss: 0.1076 - accuracy: 0.9669 - val_loss: 0.1120 - val_accuracy: 0.9679\n",
            "Epoch 7/35\n",
            "2400/2400 [==============================] - 11s 5ms/step - loss: 0.0949 - accuracy: 0.9700 - val_loss: 0.0972 - val_accuracy: 0.9711\n",
            "Epoch 8/35\n",
            "2400/2400 [==============================] - 11s 5ms/step - loss: 0.0867 - accuracy: 0.9736 - val_loss: 0.0984 - val_accuracy: 0.9693\n",
            "Epoch 9/35\n",
            "2400/2400 [==============================] - 12s 5ms/step - loss: 0.0784 - accuracy: 0.9755 - val_loss: 0.0931 - val_accuracy: 0.9700\n",
            "Epoch 10/35\n",
            "2400/2400 [==============================] - 11s 5ms/step - loss: 0.0723 - accuracy: 0.9771 - val_loss: 0.0844 - val_accuracy: 0.9732\n",
            "Epoch 11/35\n",
            "2400/2400 [==============================] - 11s 5ms/step - loss: 0.0647 - accuracy: 0.9794 - val_loss: 0.0836 - val_accuracy: 0.9745\n",
            "Epoch 12/35\n",
            "2400/2400 [==============================] - 11s 5ms/step - loss: 0.0599 - accuracy: 0.9815 - val_loss: 0.0759 - val_accuracy: 0.9744\n",
            "Epoch 13/35\n",
            "2400/2400 [==============================] - 11s 5ms/step - loss: 0.0548 - accuracy: 0.9823 - val_loss: 0.0732 - val_accuracy: 0.9764\n",
            "Epoch 14/35\n",
            "2400/2400 [==============================] - 12s 5ms/step - loss: 0.0499 - accuracy: 0.9839 - val_loss: 0.0720 - val_accuracy: 0.9782\n",
            "Epoch 15/35\n",
            "2400/2400 [==============================] - 12s 5ms/step - loss: 0.0455 - accuracy: 0.9859 - val_loss: 0.0707 - val_accuracy: 0.9784\n",
            "Epoch 16/35\n",
            "2400/2400 [==============================] - 12s 5ms/step - loss: 0.0424 - accuracy: 0.9872 - val_loss: 0.0667 - val_accuracy: 0.9786\n",
            "Epoch 17/35\n",
            "2400/2400 [==============================] - 11s 5ms/step - loss: 0.0386 - accuracy: 0.9877 - val_loss: 0.0616 - val_accuracy: 0.9798\n",
            "Epoch 18/35\n",
            "2400/2400 [==============================] - 11s 5ms/step - loss: 0.0352 - accuracy: 0.9890 - val_loss: 0.0645 - val_accuracy: 0.9802\n",
            "Epoch 19/35\n",
            "2400/2400 [==============================] - 11s 5ms/step - loss: 0.0329 - accuracy: 0.9891 - val_loss: 0.0687 - val_accuracy: 0.9786\n",
            "Epoch 20/35\n",
            "2400/2400 [==============================] - 12s 5ms/step - loss: 0.0296 - accuracy: 0.9908 - val_loss: 0.0617 - val_accuracy: 0.9810\n",
            "Epoch 21/35\n",
            "2400/2400 [==============================] - 11s 5ms/step - loss: 0.0271 - accuracy: 0.9919 - val_loss: 0.0630 - val_accuracy: 0.9807\n",
            "Epoch 22/35\n",
            "2400/2400 [==============================] - 12s 5ms/step - loss: 0.0252 - accuracy: 0.9926 - val_loss: 0.0627 - val_accuracy: 0.9799\n",
            "Epoch 23/35\n",
            "2400/2400 [==============================] - 12s 5ms/step - loss: 0.0241 - accuracy: 0.9923 - val_loss: 0.0597 - val_accuracy: 0.9817\n",
            "Epoch 24/35\n",
            "2400/2400 [==============================] - 11s 5ms/step - loss: 0.0217 - accuracy: 0.9935 - val_loss: 0.0572 - val_accuracy: 0.9821\n",
            "Epoch 25/35\n",
            "2400/2400 [==============================] - 12s 5ms/step - loss: 0.0202 - accuracy: 0.9939 - val_loss: 0.0554 - val_accuracy: 0.9821\n",
            "Epoch 26/35\n",
            "2400/2400 [==============================] - 12s 5ms/step - loss: 0.0184 - accuracy: 0.9947 - val_loss: 0.0565 - val_accuracy: 0.9828\n",
            "Epoch 27/35\n",
            "2400/2400 [==============================] - 12s 5ms/step - loss: 0.0173 - accuracy: 0.9952 - val_loss: 0.0567 - val_accuracy: 0.9828\n",
            "Epoch 28/35\n",
            "2400/2400 [==============================] - 11s 5ms/step - loss: 0.0161 - accuracy: 0.9952 - val_loss: 0.0531 - val_accuracy: 0.9837\n",
            "Epoch 29/35\n",
            "2400/2400 [==============================] - 11s 5ms/step - loss: 0.0151 - accuracy: 0.9958 - val_loss: 0.0587 - val_accuracy: 0.9828\n",
            "Epoch 30/35\n",
            "2400/2400 [==============================] - 11s 5ms/step - loss: 0.0137 - accuracy: 0.9962 - val_loss: 0.0553 - val_accuracy: 0.9834\n",
            "Epoch 31/35\n",
            "2400/2400 [==============================] - 11s 5ms/step - loss: 0.0123 - accuracy: 0.9967 - val_loss: 0.0572 - val_accuracy: 0.9828\n",
            "Epoch 32/35\n",
            "2400/2400 [==============================] - 12s 5ms/step - loss: 0.0111 - accuracy: 0.9970 - val_loss: 0.0574 - val_accuracy: 0.9826\n",
            "Epoch 33/35\n",
            "2400/2400 [==============================] - 12s 5ms/step - loss: 0.0110 - accuracy: 0.9968 - val_loss: 0.0589 - val_accuracy: 0.9823\n",
            "Epoch 34/35\n",
            "2400/2400 [==============================] - 12s 5ms/step - loss: 0.0094 - accuracy: 0.9978 - val_loss: 0.0581 - val_accuracy: 0.9837\n",
            "Epoch 35/35\n",
            "2400/2400 [==============================] - 12s 5ms/step - loss: 0.0090 - accuracy: 0.9978 - val_loss: 0.0602 - val_accuracy: 0.9828\n"
          ]
        }
      ]
    },
    {
      "cell_type": "code",
      "source": [
        "plt.plot(hist.history['accuracy'])\n",
        "plt.plot(hist.history['val_accuracy'])\n",
        "plt.title('history: the CNN model accuracy')\n",
        "plt.ylabel('accuracy')\n",
        "plt.xlabel('epoch')\n",
        "plt.legend(['train', 'test'], loc='lower right')\n",
        "plt.show()"
      ],
      "metadata": {
        "colab": {
          "base_uri": "https://localhost:8080/",
          "height": 295
        },
        "id": "1PTuXLM1_E7w",
        "outputId": "8674096f-d867-4732-b226-36547b53959e"
      },
      "execution_count": null,
      "outputs": [
        {
          "output_type": "display_data",
          "data": {
            "image/png": "[encoded data removed]",
            "text/plain": [
              "<Figure size 432x288 with 1 Axes>"
            ]
          },
          "metadata": {
            "needs_background": "light"
          }
        }
      ]
    },
    {
      "cell_type": "code",
      "source": [
        "model.save_weights('CNN_mnist.h5')"
      ],
      "metadata": {
        "id": "TFcU54Ad_pCW"
      },
      "execution_count": null,
      "outputs": []
    }
  ]
}